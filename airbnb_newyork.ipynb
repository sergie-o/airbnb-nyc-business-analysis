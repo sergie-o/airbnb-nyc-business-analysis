{
 "cells": [
  {
   "cell_type": "markdown",
   "id": "eef02a7f",
   "metadata": {},
   "source": [
    "# Optimizing Airbnb NYC Listings: Data-Driven Insights for Hosts & Investors"
   ]
  },
  {
   "cell_type": "markdown",
   "id": "e50f281e",
   "metadata": {},
   "source": [
    "## Business Question:\n"
   ]
  },
  {
   "cell_type": "markdown",
   "id": "db77349f",
   "metadata": {},
   "source": [
    "### What location, pricing, and availability strategies can hosts adopt to maximize bookings and revenue"
   ]
  },
  {
   "cell_type": "code",
   "execution_count": null,
   "id": "0d0a1c04",
   "metadata": {},
   "outputs": [],
   "source": []
  },
  {
   "cell_type": "markdown",
   "id": "dbf5facd",
   "metadata": {},
   "source": [
    "## Data Cleaning "
   ]
  },
  {
   "cell_type": "code",
   "execution_count": null,
   "id": "e5926daf",
   "metadata": {},
   "outputs": [],
   "source": [
    "import pandas as pd\n",
    "import numpy as np\n",
    "import seaborn as sns\n",
    "import plotly.express as px\n",
    "import matplotlib as plt"
   ]
  },
  {
   "cell_type": "code",
   "execution_count": null,
   "id": "3956e2a8",
   "metadata": {},
   "outputs": [],
   "source": [
    "df=pd.read_csv(r\"/Users/turfdiddy/Desktop/Bootcamp_ds:ml/Week_4/Personal_Project/AB_NYC_2019.csv\")"
   ]
  },
  {
   "cell_type": "code",
   "execution_count": null,
   "id": "9dd31aa3",
   "metadata": {},
   "outputs": [],
   "source": [
    "df"
   ]
  },
  {
   "cell_type": "code",
   "execution_count": null,
   "id": "b068313a",
   "metadata": {},
   "outputs": [],
   "source": [
    "df.head()"
   ]
  },
  {
   "cell_type": "code",
   "execution_count": null,
   "id": "5b40e32c",
   "metadata": {},
   "outputs": [],
   "source": [
    "df.duplicated().sum()"
   ]
  },
  {
   "cell_type": "code",
   "execution_count": null,
   "id": "9197f3c6",
   "metadata": {},
   "outputs": [],
   "source": [
    "df.dtypes"
   ]
  },
  {
   "cell_type": "code",
   "execution_count": null,
   "id": "34cf1a3f",
   "metadata": {},
   "outputs": [],
   "source": [
    "df.isnull().sum()"
   ]
  },
  {
   "cell_type": "code",
   "execution_count": null,
   "id": "6fc8254b",
   "metadata": {},
   "outputs": [],
   "source": [
    "df.columns = df.columns.str.strip().str.lower().str.replace(\" \", \"_\")"
   ]
  },
  {
   "cell_type": "code",
   "execution_count": null,
   "id": "587f840f",
   "metadata": {},
   "outputs": [],
   "source": [
    "# The strategy here is to leave out misisng names and host names as they dont affect numerical analysis \n",
    "df['reviews_per_month'] = df['reviews_per_month'].fillna(0)\n",
    "df['last_review'] = df['last_review'].fillna('No review')"
   ]
  },
  {
   "cell_type": "code",
   "execution_count": null,
   "id": "5edfbedd",
   "metadata": {},
   "outputs": [],
   "source": [
    "df['last_review'] = pd.to_datetime(df['last_review'], errors='coerce')\n",
    "df['price'] = pd.to_numeric(df['price'], errors='coerce')"
   ]
  },
  {
   "cell_type": "code",
   "execution_count": null,
   "id": "55dbf7cf",
   "metadata": {},
   "outputs": [],
   "source": [
    "df['review_year'] = df['last_review'].dt.year\n",
    "df['review_month'] = df['last_review'].dt.month\n",
    "df['review_day'] = df['last_review'].dt.day"
   ]
  },
  {
   "cell_type": "code",
   "execution_count": null,
   "id": "28f71921",
   "metadata": {},
   "outputs": [],
   "source": [
    "import plotly.express as px\n",
    "\n",
    "# Before filtering\n",
    "fig_before = px.histogram(\n",
    "    df,\n",
    "    x=\"price\",\n",
    "    nbins=100,\n",
    "    title=\"Price Distribution (Before Outlier Removal)\",\n",
    "    labels={\"price\": \"Price (USD)\"},\n",
    "    color_discrete_sequence=[\"#EF553B\"]\n",
    ")\n",
    "fig_before.show()\n",
    "\n",
    "# Filter out prices above $500\n",
    "df_filtered = df[df[\"price\"] <= 500].copy()\n",
    "\n",
    "# After filtering\n",
    "fig_after = px.histogram(\n",
    "    df_filtered,\n",
    "    x=\"price\",\n",
    "    nbins=100,\n",
    "    title=\"Price Distribution (After Outlier Removal - Focus on ≤ $500)\",\n",
    "    labels={\"price\": \"Price (USD)\"},\n",
    "    color_discrete_sequence=[\"#00CC96\"]\n",
    ")\n",
    "fig_after.show()"
   ]
  },
  {
   "cell_type": "code",
   "execution_count": null,
   "id": "27724697",
   "metadata": {},
   "outputs": [],
   "source": [
    "df.info()\n",
    "df.describe()"
   ]
  },
  {
   "cell_type": "code",
   "execution_count": null,
   "id": "8dbd64c2",
   "metadata": {},
   "outputs": [],
   "source": [
    "df.to_csv(\"airbnb_nyc_cleaned.csv\", index=False)\n",
    "\n",
    "print(\" Cleaned Airbnb dataset saved as airbnb_nyc_cleaned.csv\")"
   ]
  },
  {
   "cell_type": "markdown",
   "id": "c77d3707",
   "metadata": {},
   "source": [
    "## EDA Analysis"
   ]
  },
  {
   "cell_type": "markdown",
   "id": "4300f68d",
   "metadata": {},
   "source": [
    "### Univariate Analysis"
   ]
  },
  {
   "cell_type": "code",
   "execution_count": null,
   "id": "b10c9fc9",
   "metadata": {},
   "outputs": [],
   "source": [
    "#The goal with this EDA analysis is to analyse and investigate the various variables within the dataframe\n",
    "#Starting first with the univariate analysis of the individual variables/columns that influence price. \n",
    "#To start with we will first generate an interactive map of the Airbnb listings in NYC, colored by neighborhood group (borough). usoing Plotly Express for visualization.\n",
    "\n",
    "\n",
    "\n",
    "# Scatter map with neighborhood group color\n",
    "fig = px.scatter_mapbox(\n",
    "    df,\n",
    "    lat=\"latitude\",\n",
    "    lon=\"longitude\",\n",
    "    color=\"neighbourhood_group\",  # color by borough\n",
    "    hover_name=\"name\",            # listing name\n",
    "    hover_data=[\"price\", \"room_type\", \"number_of_reviews\"],\n",
    "    zoom=10,\n",
    "    height=600,\n",
    "    title=\"NYC Airbnb Listings by Location and Borough\",\n",
    ")\n",
    "\n",
    "# Set map style\n",
    "fig.update_layout(mapbox_style=\"open-street-map\")\n",
    "fig.update_layout(margin={\"r\":0,\"t\":30,\"l\":0,\"b\":0})\n",
    "\n",
    "fig.show()"
   ]
  },
  {
   "cell_type": "code",
   "execution_count": null,
   "id": "2ad79191",
   "metadata": {},
   "outputs": [],
   "source": [
    "import plotly.express as px\n",
    "\n",
    "group_counts = df['neighbourhood_group'].value_counts().reset_index()\n",
    "group_counts.columns = ['neighbourhood_group', 'listing_count']\n",
    "\n",
    "fig = px.bar(\n",
    "    group_counts,\n",
    "    x='neighbourhood_group',\n",
    "    y='listing_count',\n",
    "    text='listing_count',\n",
    "    color='neighbourhood_group',\n",
    "    title='Number of Listings per Neighbourhood Group',\n",
    "    color_discrete_sequence=px.colors.qualitative.Set2\n",
    ")\n",
    "fig.update_traces(textposition='outside')\n",
    "fig.show()"
   ]
  },
  {
   "cell_type": "code",
   "execution_count": null,
   "id": "da7c32e6",
   "metadata": {},
   "outputs": [],
   "source": [
    "#The first variable we will analyze is the 'price' variable. The purpose of this analysis is to understand the distribution of prices across different listings in NYC. and identify\n",
    "#common price ranges, outliers, and the overall pricing structure of Airbnb listings in NYC.\n",
    "# We start with a boxplot of the price distribution\n"
   ]
  },
  {
   "cell_type": "code",
   "execution_count": null,
   "id": "1216b648",
   "metadata": {},
   "outputs": [],
   "source": [
    "import plotly.express as px\n",
    "\n",
    "fig = px.box(df, y=\"price\", title=\"Boxplot of Airbnb Prices (Including Outliers)\")\n",
    "fig.show()"
   ]
  },
  {
   "cell_type": "code",
   "execution_count": null,
   "id": "a0193437",
   "metadata": {},
   "outputs": [],
   "source": []
  },
  {
   "cell_type": "markdown",
   "id": "2c8a5fd2",
   "metadata": {},
   "source": [
    "Insight:\n",
    "- There seems to be outliers that are affecting the dataset"
   ]
  },
  {
   "cell_type": "code",
   "execution_count": null,
   "id": "2f0a952b",
   "metadata": {},
   "outputs": [],
   "source": [
    "#Boxplot after removing the outliers and focusing the dataset on the price range 0-500 USD\n",
    "\n",
    "fig = px.box(\n",
    "    df_filtered,\n",
    "    y=\"price\",\n",
    "    title=\"Boxplot of Airbnb Prices (After Removing Outliers)\",\n",
    "    labels={\"price\": \"Price (USD)\"},\n",
    "    color_discrete_sequence=[\"#636EFA\"]\n",
    ")\n",
    "fig.show()"
   ]
  },
  {
   "cell_type": "code",
   "execution_count": null,
   "id": "d1839608",
   "metadata": {},
   "outputs": [],
   "source": [
    "fig = px.histogram(\n",
    "    df,\n",
    "    x=\"price\",\n",
    "    nbins=100,\n",
    "    title=\"Distribution of Airbnb Prices\",\n",
    "    labels={\"price\": \"Price (USD)\"},\n",
    "    color_discrete_sequence=[\"#636EFA\"]\n",
    ")\n",
    "fig.update_layout(xaxis_range=[0, 500])  # Focus on listings under $500 due to the outliers\n",
    "fig.show()"
   ]
  },
  {
   "cell_type": "code",
   "execution_count": null,
   "id": "147dfe59",
   "metadata": {},
   "outputs": [],
   "source": [
    "\n",
    "\n",
    "# Before filtering\n",
    "fig_before = px.histogram(\n",
    "    df,\n",
    "    x=\"price\",\n",
    "    nbins=100,\n",
    "    title=\"Price Distribution (Before Outlier Removal)\",\n",
    "    labels={\"price\": \"Price (USD)\"},\n",
    "    color_discrete_sequence=[\"#EF553B\"]\n",
    ")\n",
    "fig_before.show()\n",
    "\n",
    "# Filter out prices above $500\n",
    "df_filtered = df[df[\"price\"] <= 500].copy()\n",
    "\n",
    "# After filtering\n",
    "fig_after = px.histogram(\n",
    "    df_filtered,\n",
    "    x=\"price\",\n",
    "    nbins=100,\n",
    "    title=\"Price Distribution (After Outlier Removal - Focus on ≤ $500)\",\n",
    "    labels={\"price\": \"Price (USD)\"},\n",
    "    color_discrete_sequence=[\"#00CC96\"]\n",
    ")\n",
    "fig_after.show()"
   ]
  },
  {
   "cell_type": "markdown",
   "id": "d531f0d6",
   "metadata": {},
   "source": [
    "**Insight:**  \n",
    "The majority of Airbnb listings in New York are priced under **$500 per night**, with a large concentration between **$50 and $200**. However, there are extreme outliers — some listings priced at several thousand dollars — that could distort statistical measures like the mean. Removing these outliers provides a more accurate view of typical market prices and allows for fairer comparisons across neighborhoods and property types.\n",
    "\n",
    "**Implications for Hosts & Investors:**  \n",
    "- For competitive pricing, most hosts would benefit from aligning their nightly rates within the **$50–$200** range where demand is likely higher.  \n",
    "- Ultra-high pricing may be viable for rare luxury properties but represents a **small niche** of the market."
   ]
  },
  {
   "cell_type": "code",
   "execution_count": null,
   "id": "bf2ebe45",
   "metadata": {},
   "outputs": [],
   "source": [
    "# In order to ensure working with the clean dataset including the price filter , I filtered the dataframe to\n",
    "# focus and filter out prices lesser and equal to 500 USD\n",
    "\n",
    "df = df[df[\"price\"] <= 500].copy()\n",
    "\n",
    "print(f\"Filtered dataset shape: {df.shape}\")\n",
    "print(f\"Max price after filtering: {df['price'].max()}\")"
   ]
  },
  {
   "cell_type": "code",
   "execution_count": null,
   "id": "0132c357",
   "metadata": {},
   "outputs": [],
   "source": [
    "#The new cleaned dataframe is now saved and stored as a csv to be used for the SQL analysis\n",
    "df.to_csv(\"airbnb_nyc_cleaned.csv\", index=False)\n",
    "\n",
    "print(\" Cleaned Airbnb dataset saved as airbnb_nyc_cleaned.csv\")"
   ]
  },
  {
   "cell_type": "code",
   "execution_count": null,
   "id": "71e699e4",
   "metadata": {},
   "outputs": [],
   "source": [
    "#The next variable here to conduct an analysis on is the room_type. This is essential because hosts and \n",
    "# investors will want to know which property dominates the market.\n",
    "# We start by visualizing the room type column"
   ]
  },
  {
   "cell_type": "code",
   "execution_count": null,
   "id": "4d396345",
   "metadata": {},
   "outputs": [],
   "source": [
    "room_type_counts = df_filtered['room_type'].value_counts().reset_index()\n",
    "room_type_counts.columns = ['room_type', 'count']  # rename columns\n",
    "\n",
    "# Bar plot\n",
    "fig = px.bar(\n",
    "    room_type_counts,\n",
    "    x='room_type',\n",
    "    y='count',\n",
    "    title='Distribution of Airbnb Room Types in NYC',\n",
    "    labels={'room_type': 'Room Type', 'count': 'Number of Listings'},\n",
    "    color='room_type',\n",
    "    color_discrete_sequence=px.colors.qualitative.Set2\n",
    ")\n",
    "\n",
    "fig.update_layout(showlegend=False)\n",
    "fig.show()"
   ]
  },
  {
   "cell_type": "markdown",
   "id": "07bfba07",
   "metadata": {},
   "source": [
    "**Insight:**\n",
    "- The majority of Airbnb listings in New York are **Entire home/apartment**, followed by **Private room** listings.  \n",
    "- **Shared rooms** and **Hotel rooms** make up only a small fraction of the market.  \n",
    "- This distribution indicates a strong preference from both hosts and guests for private spaces, with shared accommodations being a niche offering."
   ]
  },
  {
   "cell_type": "code",
   "execution_count": null,
   "id": "96f48e34",
   "metadata": {},
   "outputs": [],
   "source": [
    "# The next variable we move on to from here is the number_of_reviews.\n",
    "# This would enable us determine the popularity of the various listings"
   ]
  },
  {
   "cell_type": "code",
   "execution_count": null,
   "id": "facf28dc",
   "metadata": {},
   "outputs": [],
   "source": [
    "import plotly.express as px\n",
    "\n",
    "# --- BEFORE OUTLIER REMOVAL ---\n",
    "fig_before = px.histogram(\n",
    "    df_filtered,\n",
    "    x=\"number_of_reviews\",\n",
    "    nbins=100,\n",
    "    title=\"Number of Reviews (Before Outlier Removal)\",\n",
    "    labels={\"number_of_reviews\": \"Number of Reviews\"},\n",
    "    color_discrete_sequence=[\"#EF553B\"]\n",
    ")\n",
    "fig_before.show()\n",
    "\n",
    "# --- DETERMINE OUTLIER CUTOFF ---\n",
    "q99 = df_filtered['number_of_reviews'].quantile(0.99)  # 99th percentile\n",
    "print(f\"99th percentile cutoff for number_of_reviews: {q99}\")\n",
    "\n",
    "# --- FILTER OUT OUTLIERS ---\n",
    "df_reviews_filtered = df_filtered[df_filtered['number_of_reviews'] <= q99]\n",
    "\n",
    "# --- AFTER OUTLIER REMOVAL ---\n",
    "fig_after = px.histogram(\n",
    "    df_reviews_filtered,\n",
    "    x=\"number_of_reviews\",\n",
    "    nbins=50,\n",
    "    title=\"Number of Reviews (After Outlier Removal)\",\n",
    "    labels={\"number_of_reviews\": \"Number of Reviews\"},\n",
    "    color_discrete_sequence=[\"#00CC96\"]\n",
    ")\n",
    "fig_after.show()"
   ]
  },
  {
   "cell_type": "markdown",
   "id": "f4ac2ce0",
   "metadata": {},
   "source": [
    "Insight:\n",
    "- The vast majority of Airbnb listings in New York have fewer than **100 reviews**, with a steep drop-off after the first few dozen reviews.  \n",
    "- A small number of listings have extremely high review counts (**several hundred to over 1000**), which are clear outliers and likely represent long-standing, high-demand properties.  \n",
    "- Removing these extreme values provides a clearer picture of typical listing performance, avoiding distortion in summary statistics and visualizations."
   ]
  },
  {
   "cell_type": "code",
   "execution_count": null,
   "id": "6137ea8b",
   "metadata": {},
   "outputs": [],
   "source": [
    "# The next variable we move on to next is the reviews per month. We start by first removing the NaN values from the reviews per month column.\n",
    "reviews_df = df.dropna(subset=['reviews_per_month'])"
   ]
  },
  {
   "cell_type": "code",
   "execution_count": null,
   "id": "d986b293",
   "metadata": {},
   "outputs": [],
   "source": [
    "\n",
    "fig = px.histogram(\n",
    "    reviews_df,\n",
    "    x='reviews_per_month',\n",
    "    nbins=50,\n",
    "    title='Distribution of Reviews per Month',\n",
    "    labels={'reviews_per_month': 'Reviews per Month'}\n",
    ")\n",
    "fig.show()"
   ]
  },
  {
   "cell_type": "code",
   "execution_count": null,
   "id": "4e52f69f",
   "metadata": {},
   "outputs": [],
   "source": [
    "# Remove NaN and extreme outliers (> 10 reviews/month)\n",
    "reviews_filtered = df.dropna(subset=['reviews_per_month'])\n",
    "reviews_filtered = reviews_filtered[reviews_filtered['reviews_per_month'] <= 10]"
   ]
  },
  {
   "cell_type": "code",
   "execution_count": null,
   "id": "d40ea34d",
   "metadata": {},
   "outputs": [],
   "source": [
    "\n",
    "fig = px.histogram(\n",
    "    reviews_filtered,\n",
    "    x='reviews_per_month',\n",
    "    nbins=50,\n",
    "    title='Distribution of Reviews per Month (Filtered)',\n",
    "    labels={'reviews_per_month': 'Reviews per Month'}\n",
    ")\n",
    "fig.show()"
   ]
  },
  {
   "cell_type": "markdown",
   "id": "e1b3db9e",
   "metadata": {},
   "source": [
    "Insights:\n",
    "-   Majority of listings have fewer than 3 reviews per month.\n",
    "\n",
    "-   Many have close to 0, suggesting low activity or seasonality.\n",
    "\n",
    "-   Listings with 3–10 reviews/month are likely high-demand, short-stay rentals.\n"
   ]
  },
  {
   "cell_type": "code",
   "execution_count": null,
   "id": "fe96a198",
   "metadata": {},
   "outputs": [],
   "source": [
    "#The next variable we investigate is the minimum nights variable."
   ]
  },
  {
   "cell_type": "code",
   "execution_count": null,
   "id": "0e9e0f3c",
   "metadata": {},
   "outputs": [],
   "source": [
    "# 1 Before cleaning: show the full distribution (expect heavy skew from outliers)\n",
    "fig_before = px.histogram(\n",
    "    df,\n",
    "    x=\"minimum_nights\",\n",
    "    nbins=100,\n",
    "    title=\"Distribution of Minimum Nights (Before Cleaning)\",\n",
    "    labels={\"minimum_nights\": \"Minimum Nights\"},\n",
    "    color_discrete_sequence=[\"#636EFA\"]\n",
    ")\n",
    "fig_before.show()\n",
    "\n",
    "# 2 Identify a reasonable threshold\n",
    "# Check high values to decide cut-off\n",
    "df_filtered[\"minimum_nights\"].describe()\n",
    "\n",
    "# (Often, Airbnb projects use <= 30 or <= 60 nights as cutoff)\n",
    "# Let's use 60 nights as threshold for \"reasonable stays\"\n",
    "df_filtered = df_filtered[df_filtered[\"minimum_nights\"] <= 60]\n",
    "\n",
    "#  After cleaning: replot the histogram\n",
    "fig_after = px.histogram(\n",
    "    df_filtered,\n",
    "    x=\"minimum_nights\",\n",
    "    nbins=60,\n",
    "    title=\"(After Removing Outliers > 60 Nights)\",\n",
    "    labels={\"minimum_nights\": \"Minimum Nights\"},\n",
    "    color_discrete_sequence=[\"#00CC96\"]\n",
    ")\n",
    "fig_after.show()"
   ]
  },
  {
   "cell_type": "markdown",
   "id": "ad3320e7",
   "metadata": {},
   "source": [
    "Insight: \n",
    "\n",
    "- The majority of Airbnb listings in New York require short stays, typically under 10 nights.  \n",
    "- A small but significant number of listings have extremely high minimum night requirements — in some cases hundreds or even thousands — which are unrealistic for most guests and likely intended for monthly or long-term rentals.  \n",
    "- Removing stays requiring more than 60 nights provides a more accurate view of the market for short- to medium-term accommodations, which make up the bulk of demand.  \n",
    "\n",
    "**Implications for Hosts & Investors**  \n",
    "- Shorter minimum night requirements (e.g., 1–7 nights) can appeal to a wider pool of guests and increase booking frequency.  \n",
    "- Extremely high minimum stays may limit audience reach and could indicate a niche, long-term rental strategy rather than typical Airbnb usage."
   ]
  },
  {
   "cell_type": "code",
   "execution_count": null,
   "id": "1f187255",
   "metadata": {},
   "outputs": [],
   "source": [
    "# Next we investigate the availability column\n",
    "\n",
    "\n",
    "seasonal_df = df[(df['availability_365'] >= 1) & (df['availability_365'] <= 364)]\n",
    "fig = px.histogram(\n",
    "    seasonal_df,\n",
    "    x=\"availability_365\",\n",
    "    nbins=12,\n",
    "    title=\"Seasonal Availability Distribution of Airbnb Listings (1–364 days)\",\n",
    "    labels={\"availability_365\": \"Available Days per Year\"},\n",
    "    color_discrete_sequence=[\"#00CC96\"]\n",
    ")\n",
    "fig.show()"
   ]
  },
  {
   "cell_type": "markdown",
   "id": "60c9ae7c",
   "metadata": {},
   "source": [
    "Insights:\n",
    "-   General Availability Patterns (First Histogram):\n",
    "\n",
    "-   Listings are not evenly distributed across all possible availability days.\n",
    "-   Clear peaks at the start of the year (1–50 days) and around full-year availability (300+ days).\n",
    "  \n",
    "-   This suggests two types of hosts:\n",
    "-   Seasonal hosts: make their properties available for short specific periods.\n",
    "-   Year-round hosts: list properties for nearly the whole year."
   ]
  },
  {
   "cell_type": "code",
   "execution_count": null,
   "id": "1cd395be",
   "metadata": {},
   "outputs": [],
   "source": [
    "fig = px.histogram(\n",
    "    seasonal_df,\n",
    "    x=\"availability_365\",\n",
    "    nbins=12,  # 12 bins ~ monthly groupings\n",
    "    color=\"neighbourhood_group\",\n",
    "    barmode=\"overlay\",\n",
    "    title=\"Seasonal Availability by Neighbourhood Group (1–364 days)\",\n",
    "    labels={\n",
    "        \"availability_365\": \"Available Days per Year\",\n",
    "        \"neighbourhood_group\": \"Neighbourhood Group\"\n",
    "    }\n",
    ")\n",
    "fig.show()"
   ]
  },
  {
   "cell_type": "markdown",
   "id": "09168df9",
   "metadata": {},
   "source": [
    "Insights:\n",
    "-   Brooklyn dominates across almost all availability ranges, especially in the 1–50 day and near-365 day categories.\n",
    "\n",
    "-   Queens and Staten Island show more even but smaller distribution across availability periods.\n",
    "\n",
    "-   Manhattan has a strong presence in the high-availability category (300+ days).\n",
    "\n",
    "-   Bronx consistently has fewer listings across all ranges.\n",
    "\n",
    "-   Manhattan & Brooklyn = largest and most flexible markets, with both extreme short-term and long-term hosting common.\n",
    "\n",
    "-   Queens = strong year-round and mid-season presence.\n",
    "\n",
    "-   Bronx & Staten Island = smaller markets, but when listings are up, they often stay available for long periods.\n",
    "\n",
    "-   Seasonal availability patterns suggest different boroughs cater to different tourist/tenant cycles, valuable for pricing and marketing strategies"
   ]
  },
  {
   "cell_type": "markdown",
   "id": "d59d461a",
   "metadata": {},
   "source": [
    "### Bivariate Analysis"
   ]
  },
  {
   "cell_type": "markdown",
   "id": "0d7e8494",
   "metadata": {},
   "source": [
    "To address our business question — *\"How do prices vary across different neighbourhood groups in our Airbnb dataset, and can these differences guide decision-making for hosts, investors, or policy makers?\"* — we begin with a statistical hypothesis test.  \n",
    "\n",
    "The goal here is to **move beyond visual impressions** from our earlier univariate analysis and interactive maps, and provide **statistical evidence** for or against price differences between neighbourhood groups.  \n",
    "\n",
    "**Hypothesis**  \n",
    "- **H₀ (Null Hypothesis):** The mean Airbnb prices are equal across all neighbourhood groups.  \n",
    "- **H₁ (Alternative Hypothesis):** At least one neighbourhood group has a different mean price.  \n",
    "\n",
    "By testing this, we can determine whether any observed price differences are simply due to random variation, or whether they are statistically significant — and thus potentially actionable for business strategy.  "
   ]
  },
  {
   "cell_type": "code",
   "execution_count": null,
   "id": "560eb696",
   "metadata": {},
   "outputs": [],
   "source": [
    "from scipy import stats\n",
    "\n",
    "# Same filtered data\n",
    "price_filtered = df[df['price'].between(10, 500)].copy()\n",
    "\n",
    "# Group price values by neighbourhood group\n",
    "groups_prices = [\n",
    "    group[\"price\"].values\n",
    "    for name, group in price_filtered.groupby(\"neighbourhood_group\")\n",
    "]"
   ]
  },
  {
   "cell_type": "code",
   "execution_count": null,
   "id": "a246f1ff",
   "metadata": {},
   "outputs": [],
   "source": [
    "f_stat, p_value = stats.f_oneway(*groups_prices)\n",
    "\n",
    "print(f\"F-statistic: {f_stat:.2f}\")\n",
    "print(f\"p-value: {p_value:.5f}\")\n",
    "\n",
    "if p_value < 0.05:\n",
    "    print(\"Reject H₀: Significant difference in prices between neighbourhood groups.\")\n",
    "else:\n",
    "    print(\"Fail to reject H₀: No significant difference in prices between groups.\")"
   ]
  },
  {
   "cell_type": "code",
   "execution_count": null,
   "id": "0e441d76",
   "metadata": {},
   "outputs": [],
   "source": [
    "# We can now visualise the relationship between price and neighbourhood groups\n",
    " \n",
    "\n",
    "price_filtered = df[df['price'].between(10, 500)]  # Keep listings between $10 and $500\n",
    "\n",
    "# Create boxplot\n",
    "fig = px.box(\n",
    "    price_filtered,\n",
    "    x=\"neighbourhood_group\",\n",
    "    y=\"price\",\n",
    "    title=\"Price Distribution by Neighbourhood Group\",\n",
    "    labels={\n",
    "        \"neighbourhood_group\": \"Neighbourhood Group\",\n",
    "        \"price\": \"Price (USD)\"\n",
    "    },\n",
    "    color=\"neighbourhood_group\"\n",
    ")\n",
    "fig.show()"
   ]
  },
  {
   "cell_type": "markdown",
   "id": "f50aad9d",
   "metadata": {},
   "source": [
    "Insight:\n",
    "-\tManhattan has the highest median price among all neighbourhood groups and a very wide spread, indicating a diverse range of property pricing.\n",
    "\n",
    "-   Brooklyn shows a lower median price than Manhattan but still has a significant price range, making it a competitive mid-high priced area.\n",
    "\n",
    "-   Queens and Staten Island have noticeably lower median prices and tighter interquartile ranges, suggesting more affordable markets.\n",
    "\n",
    "-   Bronx has the lowest overall prices with a small spread, indicating less variation in listing costs.\n",
    "\n",
    "-   Extreme outliers exist in every group (especially Manhattan and Brooklyn), but most listings fall well below these extreme values.\n",
    "\n",
    "-   If the platform targets premium travelers in New York, Manhattan and Brooklyn are prime focus areas. For budget conscious travelers , Bronx \n",
    "-   and Staten Island offer lower price entry points   \n"
   ]
  },
  {
   "cell_type": "code",
   "execution_count": null,
   "id": "f3639a80",
   "metadata": {},
   "outputs": [],
   "source": [
    "fig = px.bar(\n",
    "    price_filtered.groupby(\"neighbourhood_group\")[\"price\"].median().reset_index(),\n",
    "    x=\"neighbourhood_group\",\n",
    "    y=\"price\",\n",
    "    title=\"Median Price by Neighbourhood Group\",\n",
    "    labels={\"price\": \"Median Price (USD)\"}\n",
    ")\n",
    "fig.show()"
   ]
  },
  {
   "cell_type": "markdown",
   "id": "138e4ab4",
   "metadata": {},
   "source": [
    "Insights:\n",
    "\n",
    "-   The median price ranking from highest to lowest:\n",
    "-   Manhattan > Brooklyn > Staten Island > Queens > Bronx.\n",
    "\t\n",
    "-   Manhattan’s median price is more than double that of Queens and Bronx, signaling a clear luxury positioning.\n",
    "\t\n",
    "-   Brooklyn sits in the middle — appealing to both mid-range and premium segments.\n",
    "\n",
    "-   Staten Island, while not the cheapest, may offer niche opportunities for travelers seeking less crowded areas with moderate prices.\n",
    "\n",
    "-   Bronx’s very low median price shows budget dominance, but may also indicate fewer high-end property options.\n",
    "\n",
    "-\tIf the goal is maximizing revenue per booking, focus marketing on Manhattan and Brooklyn. If the goal is increasing booking volume, highlight affordable options in Bronx, Queens, and Staten Island."
   ]
  },
  {
   "cell_type": "code",
   "execution_count": null,
   "id": "da93ba22",
   "metadata": {},
   "outputs": [],
   "source": [
    "fig = px.scatter_mapbox(\n",
    "    price_filtered,  # Your DataFrame\n",
    "    lat=\"latitude\",\n",
    "    lon=\"longitude\",\n",
    "    color=\"neighbourhood_group\",  # Group color\n",
    "    size=\"price\",  # Bubble size based on price\n",
    "    hover_name=\"name\",  # Show listing name\n",
    "    hover_data=[\"price\", \"room_type\"],\n",
    "    mapbox_style=\"carto-positron\",\n",
    "    zoom=10,\n",
    "    title=\"Airbnb Prices by Location and Neighbourhood Group\"\n",
    ")\n",
    "fig.show()"
   ]
  },
  {
   "cell_type": "code",
   "execution_count": null,
   "id": "b4e99397",
   "metadata": {},
   "outputs": [],
   "source": [
    "# The interactive map below makes it possible to view the various boroughs and the price influences\n",
    "\n",
    "import plotly.express as px\n",
    "import plotly.graph_objects as go\n",
    "\n",
    "\n",
    "price_filtered = df[df['price'].between(10, 500)].copy()\n",
    "\n",
    "\n",
    "groups = sorted(price_filtered['neighbourhood_group'].dropna().unique())\n",
    "category_orders = {\"neighbourhood_group\": groups}\n",
    "\n",
    "# Building the map (Plotly Express creates one trace per group when using `color=`)\n",
    "fig = px.scatter_mapbox(\n",
    "    price_filtered,\n",
    "    lat=\"latitude\",\n",
    "    lon=\"longitude\",\n",
    "    color=\"neighbourhood_group\",\n",
    "    size=\"price\",\n",
    "    hover_name=\"name\",\n",
    "    hover_data=[\"price\", \"room_type\", \"neighbourhood_group\"],\n",
    "    mapbox_style=\"open-street-map\",   # no token needed\n",
    "    zoom=10,\n",
    "    height=650,\n",
    "    category_orders=category_orders,\n",
    "    title=\"Airbnb Prices by Neighbourhood Group (Interactive)\"\n",
    ")\n",
    "\n",
    "#  Making dropdown buttons (one per group + 'All')\n",
    "n_traces = len(fig.data)  # should equal number of groups\n",
    "buttons = []\n",
    "\n",
    "# 'All' button -> show all traces\n",
    "buttons.append(dict(\n",
    "    label=\"All\",\n",
    "    method=\"update\",\n",
    "    args=[{\"visible\": [True]*n_traces},\n",
    "          {\"title\": \"Airbnb Prices – All Neighbourhoods\"}]\n",
    "))\n",
    "\n",
    "# One button per neighbourhood group\n",
    "for i, grp in enumerate(groups):\n",
    "    visible = [False]*n_traces\n",
    "    visible[i] = True  # only this group's trace\n",
    "    buttons.append(dict(\n",
    "        label=grp,\n",
    "        method=\"update\",\n",
    "        args=[{\"visible\": visible},\n",
    "              {\"title\": f\"Airbnb Prices – {grp}\"}]\n",
    "    ))\n",
    "\n",
    "fig.update_layout(\n",
    "    updatemenus=[dict(\n",
    "        type=\"dropdown\",\n",
    "        x=0.01, y=0.98, xanchor=\"left\", yanchor=\"top\",\n",
    "        showactive=True,\n",
    "        buttons=buttons\n",
    "    )],\n",
    "    margin=dict(l=10, r=10, t=60, b=10)\n",
    ")\n",
    "\n",
    "fig.show()"
   ]
  },
  {
   "cell_type": "markdown",
   "id": "e6df5777",
   "metadata": {},
   "source": [
    "Business Implication:\n",
    "\n",
    "-   Airbnb hosts or property investors can prioritize high-price areas (statistically higher) if profitability is the main goal.\n",
    "\n",
    "-   Policy makers could investigate high-price boroughs for affordability measures"
   ]
  },
  {
   "cell_type": "markdown",
   "id": "e0b2c9a3",
   "metadata": {},
   "source": [
    "**Business Interpretation:**  \n",
    "These results suggest that neighbourhood group is an important factor when setting listing prices.  \n",
    "For hosts, understanding these differences could help in **optimizing pricing strategies**.  \n",
    "For investors, this could inform **location-based investment decisions** to balance occupancy rates and revenue potential.  \n",
    "For policy makers, this may help guide **short-term rental regulations** tailored to each borough's market dynamics.  "
   ]
  },
  {
   "cell_type": "code",
   "execution_count": null,
   "id": "7b5a8666",
   "metadata": {},
   "outputs": [],
   "source": [
    "# Next we want to investigate the relationship between Price and Room Type"
   ]
  },
  {
   "cell_type": "markdown",
   "id": "585cc098",
   "metadata": {},
   "source": [
    "We now turn our attention to another key factor in Airbnb pricing — the **type of room offered**.  \n",
    "Room type is one of the first things a potential guest considers, and it may have a strong influence on price.\n",
    "\n",
    "**Business Question:**  \n",
    "Do different types of rooms (*Entire home/apt*, *Private room*, *Shared room*, *Hotel room*) command significantly different average prices in the Airbnb market?\n",
    "\n",
    "**Hypotheses:**\n",
    "\n",
    "- **H₀ (Null Hypothesis):** The mean prices are equal across all room types.  \n",
    "- **H₁ (Alternative Hypothesis):** At least one room type has a significantly different mean price.\n"
   ]
  },
  {
   "cell_type": "code",
   "execution_count": null,
   "id": "4bc19b6b",
   "metadata": {},
   "outputs": [],
   "source": [
    "price_rt = df[df['price'].between(10, 500)].copy()\n",
    "\n",
    "price_rt = price_rt.dropna(subset=['price', 'room_type'])\n",
    "\n",
    "price_rt['room_type'] = price_rt['room_type'].astype('category')\n",
    "\n",
    "\n",
    "groups = [\n",
    "    grp['price'].values\n",
    "    for _, grp in price_rt.groupby('room_type', observed=True)\n",
    "]\n",
    "\n",
    "f_stat, p_val = stats.f_oneway(*groups)\n",
    "print(f\"ANOVA F-statistic: {f_stat:.4f}\")\n",
    "print(f\"ANOVA p-value:     {p_val:.6f}\")\n",
    "\n",
    "if p_val < 0.05:\n",
    "    print(\"Reject H0: At least one room type has a different mean price.\")\n",
    "else:\n",
    "    print(\"Fail to reject H0: No evidence of mean price differences across room types.\")\n"
   ]
  },
  {
   "cell_type": "code",
   "execution_count": null,
   "id": "b4c4a2c7",
   "metadata": {},
   "outputs": [],
   "source": [
    "import plotly.express as px\n",
    "\n",
    "# 1) Filter price outliers for better visualization\n",
    "roomtype_df = df[df['price'].between(10, 500)].copy()\n",
    "\n",
    "# 2) Boxplot – distribution of prices by room type\n",
    "fig_box = px.box(\n",
    "    roomtype_df,\n",
    "    x=\"room_type\",\n",
    "    y=\"price\",\n",
    "    color=\"room_type\",\n",
    "    title=\"Price Distribution by Room Type\",\n",
    "    labels={\n",
    "        \"room_type\": \"Room Type\",\n",
    "        \"price\": \"Price (USD)\"\n",
    "    }\n",
    ")\n",
    "fig_box.show()\n",
    "\n",
    "# 3) Barplot – mean price per room type\n",
    "mean_prices = roomtype_df.groupby(\"room_type\", as_index=False)['price'].mean()\n",
    "\n",
    "fig_bar = px.bar(\n",
    "    mean_prices,\n",
    "    x=\"room_type\",\n",
    "    y=\"price\",\n",
    "    color=\"room_type\",\n",
    "    title=\"Average Price by Room Type\",\n",
    "    labels={\n",
    "        \"room_type\": \"Room Type\",\n",
    "        \"price\": \"Average Price (USD)\"\n",
    "    }\n",
    ")\n",
    "fig_bar.show()"
   ]
  },
  {
   "cell_type": "code",
   "execution_count": null,
   "id": "8c47e316",
   "metadata": {},
   "outputs": [],
   "source": [
    "#From here we want to investigate the relationship between Price and availability_365"
   ]
  },
  {
   "cell_type": "markdown",
   "id": "4a9aad40",
   "metadata": {},
   "source": [
    "**Business Question**:\n",
    "\n",
    "-   Does the number of days a listing is available per year influence its average price?  \n",
    "\n",
    "-   This can provide insights for hosts on whether being available all year leads to higher earnings, or if seasonal availability creates a scarcity effect that allows for premium pricing.\n",
    "\n",
    "**Hypotheses**: \n",
    "- **H₀ (Null Hypothesis):** Mean prices are equal across different availability categories.  \n",
    "- **H₁ (Alternative Hypothesis):** At least one availability category has a different mean price.\n"
   ]
  },
  {
   "cell_type": "code",
   "execution_count": null,
   "id": "292f1a19",
   "metadata": {},
   "outputs": [],
   "source": [
    "# Step 1: Create Availability Categories\n",
    "\n",
    "\n",
    "df['availability_category'] = pd.cut(\n",
    "    df['availability_365'],\n",
    "    bins=[-1, 0, 180, 364, 365],\n",
    "    labels=['Unavailable', 'Low (1–180)', 'Medium (181–364)', 'Year-round']\n",
    ")"
   ]
  },
  {
   "cell_type": "code",
   "execution_count": null,
   "id": "b2292d81",
   "metadata": {},
   "outputs": [],
   "source": [
    "#Step 2: Filter extreme price outliers for clearer visualization\n",
    "filtered_df = df[df['price'].between(10, 500)]\n"
   ]
  },
  {
   "cell_type": "code",
   "execution_count": null,
   "id": "ac3e7a49",
   "metadata": {},
   "outputs": [],
   "source": [
    "# Step 3: Boxplot\n",
    "fig = px.box(\n",
    "    filtered_df,\n",
    "    x='availability_category',\n",
    "    y='price',\n",
    "    color='availability_category',\n",
    "    title=\"Price Distribution by Availability Category\",\n",
    "    labels={'availability_category': 'Availability Category', 'price': 'Price (USD)'}\n",
    ")\n",
    "fig.show()\n"
   ]
  },
  {
   "cell_type": "markdown",
   "id": "eda21ac8",
   "metadata": {},
   "source": [
    "Insights:\n",
    "\n",
    "-\tListings with very low availability (close to 0 days) tend to have a wider spread in prices, including a few extremely high-priced outliers.\n",
    "\n",
    "-\tModerate to high availability (100–300 days) generally corresponds to lower median prices, suggesting that hosts keeping listings open most of the year might adopt more competitive pricing to attract bookings.\n",
    "\n",
    "-\tFully available listings (365 days) cluster in the mid-to-lower price range, indicating they are likely targeted at consistent occupancy rather than premium pricing.\n",
    "\n",
    "-\tThe interquartile range (IQR) narrows as availability increases, showing more price stability for highly available listings.\n",
    "\n",
    "-\tOverall, availability appears to influence pricing strategy, with low-availability listings more likely positioned as premium/short-term rentals, and high-availability listings geared toward steady, budget-conscious demand."
   ]
  },
  {
   "cell_type": "code",
   "execution_count": null,
   "id": "99adb485",
   "metadata": {},
   "outputs": [],
   "source": [
    "# Step 4: Hypothesis Testing (ANOVA)\n",
    "groups = [\n",
    "    filtered_df.loc[filtered_df['availability_category'] == cat, 'price']\n",
    "    for cat in filtered_df['availability_category'].unique()\n",
    "]\n",
    "\n",
    "anova_stat, p_value = stats.f_oneway(*groups)\n",
    "\n",
    "print(f\"ANOVA Statistic: {anova_stat:.4f}\")\n",
    "print(f\"P-value: {p_value:.4f}\")\n",
    "\n",
    "# Step 5: Conclusion\n",
    "if p_value < 0.05:\n",
    "    print(\"Reject H₀ → There is a significant difference in mean prices across availability categories.\")\n",
    "else:\n",
    "    print(\"Fail to Reject H₀ → No significant difference in mean prices across availability categories.\")"
   ]
  },
  {
   "cell_type": "markdown",
   "id": "03679743",
   "metadata": {},
   "source": [
    "-   The statistical evidence aligns with the boxplot pattern: availability strongly influences pricing strategy."
   ]
  },
  {
   "cell_type": "code",
   "execution_count": null,
   "id": "718fc770",
   "metadata": {},
   "outputs": [],
   "source": [
    "# Our next analysis is with a multivariate Analysis on Price ,Room type and Availability. The Business goal link\n",
    "# here is to see if listings with more reviews tend "
   ]
  },
  {
   "cell_type": "code",
   "execution_count": null,
   "id": "8a7a8d0b",
   "metadata": {},
   "outputs": [],
   "source": [
    "import statsmodels.api as sm\n",
    "from statsmodels.formula.api import ols\n",
    "\n",
    "filtered_df = df[df['price'].between(10, 500)].copy()\n",
    "filtered_df['availability_category'] = np.where(\n",
    "    filtered_df['availability_365'] > 180, 'High Availability', 'Low Availability'\n",
    ")\n",
    "\n",
    "# Model\n",
    "model = ols('price ~ C(room_type) * C(availability_category)', data=filtered_df).fit()\n",
    "anova_table = sm.stats.anova_lm(model, typ=2)\n",
    "print(anova_table)"
   ]
  },
  {
   "cell_type": "code",
   "execution_count": null,
   "id": "b7c87e20",
   "metadata": {},
   "outputs": [],
   "source": [
    "import seaborn as sns\n",
    "import matplotlib.pyplot as plt\n",
    "\n",
    "\n",
    "sns.boxplot(\n",
    "    x='room_type',\n",
    "    y='price',\n",
    "    hue='availability_category',\n",
    "    data=filtered_df\n",
    ")\n",
    "plt.title('Price by Room Type & Availability')\n",
    "plt.show()"
   ]
  },
  {
   "cell_type": "code",
   "execution_count": null,
   "id": "3edc30bf",
   "metadata": {},
   "outputs": [],
   "source": [
    "import plotly.express as px\n",
    "import pandas as pd\n",
    "\n",
    "# Create availability category for cleaner grouping\n",
    "bins = [-1, 0, 100, 200, 365]\n",
    "labels = [\"No availability\", \"Low (1–100 days)\", \"Medium (101–200 days)\", \"High (201–365 days)\"]\n",
    "df['availability_category'] = pd.cut(df['availability_365'], bins=bins, labels=labels)\n",
    "\n",
    "# Filter extreme prices for better visualization\n",
    "df_filtered = df[df['price'].between(10, 500)]\n",
    "\n",
    "# Grouped boxplot: Price vs Availability, split by Room Type\n",
    "fig = px.box(\n",
    "    df_filtered,\n",
    "    x=\"availability_category\",\n",
    "    y=\"price\",\n",
    "    color=\"room_type\",\n",
    "    title=\"Price Distribution by Availability and Room Type\",\n",
    "    labels={\n",
    "        \"availability_category\": \"Availability Category\",\n",
    "        \"price\": \"Price (USD)\",\n",
    "        \"room_type\": \"Room Type\"\n",
    "    },\n",
    "    category_orders={\n",
    "        \"availability_category\": labels,\n",
    "        \"room_type\": sorted(df['room_type'].unique())\n",
    "    }\n",
    ")\n",
    "fig.show()"
   ]
  },
  {
   "cell_type": "code",
   "execution_count": null,
   "id": "66d67424",
   "metadata": {},
   "outputs": [],
   "source": [
    "import statsmodels.api as sm\n",
    "from statsmodels.formula.api import ols\n",
    "\n",
    "# Filter and prepare data for ANOVA\n",
    "anova_df = df_filtered.copy()\n",
    "\n",
    "# Fit Two-Way ANOVA model with interaction term\n",
    "model = ols('price ~ C(availability_category) * C(room_type)', data=anova_df).fit()\n",
    "anova_table = sm.stats.anova_lm(model, typ=2)  # Type II ANOVA\n",
    "print(anova_table)"
   ]
  },
  {
   "cell_type": "markdown",
   "id": "3e296023",
   "metadata": {},
   "source": [
    "**Insight Summary – Price, Availability, and Room Type (Statistically Backed)**\n",
    "\n",
    "1. **Statistical Results**  \n",
    "   - **Availability Category Effect**:  \n",
    "     F(3, 47828) = 214.99, **p < 0.0001** → Significant differences in prices exist between different availability categories.\n",
    "\n",
    "   - **Room Type Effect**:  \n",
    "     F(2, 47828) = 11,199.55, **p < 0.0001** → Room type is a very strong predictor of price variation.\n",
    "\n",
    "   - **Interaction Effect (Availability × Room Type)**:  \n",
    "     F(6, 47828) = 44.91, **p < 0.0001** → The impact of availability on price depends on the room type.\n",
    "\n",
    "2. **Key Insights**  \n",
    "   - *Entire home/apartment* listings consistently have the highest median prices across all availability levels.  \n",
    "\n",
    "   - Listings with **medium-to-high availability** (101–365 days) tend to have greater price variation, especially in the *Entire home/apartment* category.  \n",
    "\n",
    "   - *Shared rooms* remain the most affordable option regardless of availability.\n",
    "\n",
    "3. **Notable Observations**  \n",
    "   - Even in “No availability” listings, prices vary widely, suggesting some inactive or temporarily blocked listings still set premium prices.  \n",
    "\n",
    "   - Significant interaction means availability’s influence on price is **not uniform** — e.g., high availability boosts prices more for *Entire home/apartment* than for *Private rooms*.\n",
    "\n",
    "4. **Business Implications**  \n",
    "   - **For hosts**: Maximizing availability can be leveraged differently depending on room type to optimize revenue.  \n",
    "   \n",
    "   - **For the platform**: Premium-tier marketing could target *Entire home/apartment* owners with high availability, as they show the largest spread and highest potential in price."
   ]
  },
  {
   "cell_type": "markdown",
   "id": "4d73a534",
   "metadata": {},
   "source": [
    " ## Project Summary – Airbnb NYC Price Analysis"
   ]
  },
  {
   "cell_type": "markdown",
   "id": "6eb77938",
   "metadata": {},
   "source": [
    "###  Business Objective\n",
    "The goal of this analysis was to explore how various factors — such as **neighbourhood location, room type, and availability** — influence Airbnb pricing in New York City. This investigation is aimed at identifying patterns that can help **hosts optimize their pricing strategy** and **assist the platform** in targeting premium listings for strategic promotion.\n",
    "\n",
    "---\n",
    "\n",
    "###  Approach\n",
    "The analysis followed a structured **Exploratory Data Analysis (EDA)** pipeline:\n",
    "1. **Data Cleaning & Preparation**  \n",
    "   - Removed unrealistic price values (e.g., prices above $500 for better interpretability).  \n",
    "   - Filtered out extreme outliers in variables such as minimum nights and number of reviews.  \n",
    "   - Handled missing values and standardized key variables.\n",
    "\n",
    "2. **Univariate Analysis**  \n",
    "   - Explored individual variables (price, minimum nights, number of reviews, availability) to understand their distributions.  \n",
    "   - Identified skewness in price and availability distributions, prompting filtering and categorization.\n",
    "\n",
    "3. **Bivariate Analysis with Hypothesis Testing**  \n",
    "   - **Price vs Neighbourhood Group**  \n",
    "     - *H₀*: Mean prices are equal across neighbourhood groups.  \n",
    "     - ANOVA showed significant differences (p < 0.0001). Manhattan emerged as the most expensive area.\n",
    "   - **Price vs Room Type**  \n",
    "     - *H₀*: Mean prices are equal across room types.  \n",
    "     - Strong statistical evidence (p < 0.0001) that *Entire home/apartment* commands the highest prices.\n",
    "   - **Price vs Availability**  \n",
    "     - *H₀*: Mean prices are equal across availability categories.  \n",
    "     - Significant differences found (p < 0.0001), with higher availability often associated with wider price ranges.\n",
    "   - **Multivariate Analysis – Price by Room Type & Availability**  \n",
    "     - Tested for interaction between room type and availability on price.  \n",
    "     - Significant interaction (p < 0.0001) — availability’s impact on price depends on the room type.\n",
    "\n",
    "4. **Geospatial Visualization**  \n",
    "   - Interactive maps revealed clear geographic clustering of high-priced listings in Manhattan and parts of Brooklyn.  \n",
    "   - Dropdown filters allowed borough-specific price exploration.\n",
    "\n",
    "---\n",
    "\n",
    "###  Key Findings\n",
    "- **Location matters**: Manhattan listings are consistently priced higher than other boroughs.  \n",
    "- **Room type is a major driver of price**: Entire homes/apartments command significantly higher prices compared to private or shared rooms.  \n",
    "- **Availability has a complex effect**: High availability correlates with greater price variance, especially for Entire homes/apartments.  \n",
    "- **Interaction effects are important**: The relationship between availability and price is not uniform across room types.\n",
    "\n",
    "---\n",
    "\n",
    "###  Business Implications\n",
    "- **For Hosts**:  \n",
    "  - Position properties in high-demand boroughs (e.g., Manhattan) and maintain high availability for premium pricing potential.  \n",
    "  - Entire home/apartment owners can benefit most from extended availability.\n",
    "- **For the Platform**:  \n",
    "  - Use predictive modeling on combined location, room type, and availability data to identify and promote high-value listings.  \n",
    "  - Create tailored recommendations for hosts to adjust availability based on room type to maximize earnings.\n",
    "\n",
    "---\n",
    "\n",
    "**Conclusion**:  \n",
    "Through rigorous EDA, hypothesis testing, and visualization, this project demonstrated that Airbnb pricing in NYC is significantly shaped by **location**, **room type**, and **availability**, with strong interaction effects between these factors. These insights can directly inform strategic decisions for both hosts and the platform."
   ]
  }
 ],
 "metadata": {
  "kernelspec": {
   "display_name": "base",
   "language": "python",
   "name": "python3"
  },
  "language_info": {
   "codemirror_mode": {
    "name": "ipython",
    "version": 3
   },
   "file_extension": ".py",
   "mimetype": "text/x-python",
   "name": "python",
   "nbconvert_exporter": "python",
   "pygments_lexer": "ipython3",
   "version": "3.12.7"
  }
 },
 "nbformat": 4,
 "nbformat_minor": 5
}
